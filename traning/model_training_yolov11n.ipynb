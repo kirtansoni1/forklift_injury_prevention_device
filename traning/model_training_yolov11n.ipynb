{
 "cells": [
  {
   "cell_type": "markdown",
   "id": "a131469c",
   "metadata": {},
   "source": [
    "# Traning YOLOv11n Model for multi-object detection"
   ]
  },
  {
   "cell_type": "markdown",
   "id": "32ba19a7",
   "metadata": {},
   "source": [
    "## Model Detection:\n",
    "1) Face detection for drawing bounding box and making sure the person is within the per defined region.\n",
    "2) Person using a phone detection"
   ]
  }
 ],
 "metadata": {
  "kernelspec": {
   "display_name": ".venv",
   "language": "python",
   "name": "python3"
  },
  "language_info": {
   "name": "python",
   "version": "3.11.2"
  }
 },
 "nbformat": 4,
 "nbformat_minor": 5
}
